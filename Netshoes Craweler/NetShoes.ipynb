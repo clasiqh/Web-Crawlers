{
 "cells": [
  {
   "cell_type": "markdown",
   "metadata": {},
   "source": [
    "### Imports"
   ]
  },
  {
   "cell_type": "code",
   "execution_count": null,
   "metadata": {},
   "outputs": [],
   "source": [
    "import scrapy\n",
    "import pandas as pd\n",
    "from scrapy.crawler import CrawlerProcess"
   ]
  },
  {
   "cell_type": "markdown",
   "metadata": {},
   "source": [
    "### Global Object for Storing Data"
   ]
  },
  {
   "cell_type": "code",
   "execution_count": null,
   "metadata": {},
   "outputs": [],
   "source": [
    "data = {\n",
    "    'Title': [],\n",
    "    'Link': [],\n",
    "    'Rating': [],\n",
    "    'Ref': [],\n",
    "    'Price': [],\n",
    "    'MRP': [],\n",
    "    'Images': [],\n",
    "    'Description':[]\n",
    "\n",
    "}"
   ]
  },
  {
   "cell_type": "markdown",
   "metadata": {},
   "source": [
    "### HTTP Header for Crawling"
   ]
  },
  {
   "cell_type": "code",
   "execution_count": null,
   "metadata": {},
   "outputs": [],
   "source": [
    "h = {\n",
    "    'User-Agent': 'Mozilla/5.0 (Windows NT 10.0; Win64; x64; rv:97.0) Gecko/20100101 Firefox/97.0'\n",
    "    # Add More Headers here if required\n",
    "}"
   ]
  },
  {
   "cell_type": "markdown",
   "metadata": {},
   "source": [
    "### Spider Class"
   ]
  },
  {
   "cell_type": "code",
   "execution_count": null,
   "metadata": {},
   "outputs": [],
   "source": [
    "class NetShoes(scrapy.Spider):\n",
    "    name = \"netShoes\"\n",
    "\n",
    "    def start_requests(self):\n",
    "        req = scrapy.Request(\n",
    "            'https://www.netshoes.com.br/lst/top-marcas/adidas', headers=h)\n",
    "        yield req\n",
    "\n",
    "    def parse(self, response):\n",
    "        pages = response.xpath('//div[@class=\"pagination\"]/a/@href').getall()\n",
    "        pages.insert(0, response.url.split(':')[1])\n",
    "        pages.pop()\n",
    "        print(pages)\n",
    "        for page in pages:\n",
    "            yield scrapy.Request('https:'+page, self.parse2, headers=h)\n",
    "\n",
    "    def parse2(self, response):\n",
    "        links = response.xpath('//div[@class=\"wrapper\"]/a/@href').getall()\n",
    "        for link in links:\n",
    "            data['Link'].append(\"https:\"+link)\n",
    "        for link in data['Link']:\n",
    "            yield scrapy.Request(link, self.parse3, headers=h)\n",
    "\n",
    "    def parse3(self, response):\n",
    "\n",
    "        # XPATHS\n",
    "        xRating = '//span[@class=\"rating-box__value\"]/text()'\n",
    "        xRef = '//p[@class=\"reference\"]/span/text()'\n",
    "        xPrice = '//div[@class=\"default-price\"]//strong/text()'\n",
    "        xMRP = '//del/text()'\n",
    "        xDescTitle = '//section[@class=\"feature-values\"]//li/strong/text()'\n",
    "        xDescVal = '//section[@class=\"feature-values\"]//li/text()'\n",
    "        xImg = '//figure/img[@itemprop=\"image\"]/@src'\n",
    "        xTitle = '//h1[@data-productname]/text()'\n",
    "\n",
    "        data['Rating'].append(response.xpath(xRating).get())\n",
    "        data['Ref'].append(response.xpath(xRef).get())\n",
    "        data['Price'].append(response.xpath(xPrice).get())\n",
    "        data['MRP'].append(response.xpath(xMRP).get())\n",
    "        data['Title'].append(response.xpath(xTitle).get())\n",
    "\n",
    "        desc = []\n",
    "        desc_title = response.xpath(xDescTitle).getall()\n",
    "        desc_val = response.xpath(xDescVal).getall()\n",
    "        for i in range(len(desc_title)):\n",
    "            txt = desc_title[i]+\" \"+desc_val[i]\n",
    "            desc.append(txt)\n",
    "        data['Description'].append(desc)\n",
    "\n",
    "        img = []\n",
    "        images = response.xpath(xImg).getall()\n",
    "        for url in images:\n",
    "            img.append(str.split(url, '?')[0])\n",
    "        data['Images'].append(img)"
   ]
  },
  {
   "cell_type": "markdown",
   "metadata": {},
   "source": [
    "### Start Crawler"
   ]
  },
  {
   "cell_type": "code",
   "execution_count": null,
   "metadata": {},
   "outputs": [],
   "source": [
    "process = CrawlerProcess()\n",
    "process.crawl(NetShoes)\n",
    "process.start()"
   ]
  },
  {
   "cell_type": "markdown",
   "metadata": {},
   "source": [
    "### Display Data"
   ]
  },
  {
   "cell_type": "code",
   "execution_count": null,
   "metadata": {},
   "outputs": [],
   "source": [
    "pd.set_option('display.max_rows', None)\n",
    "pd.set_option('display.max_colwidth', None)\n",
    "df = pd.DataFrame(data)\n",
    "df"
   ]
  }
 ],
 "metadata": {
  "interpreter": {
   "hash": "9d1305eee1b9e7f0ce476e01a35e934466df5b0fd08beb4515d42ccae42938fd"
  },
  "kernelspec": {
   "display_name": "Python 3.10.2 64-bit",
   "language": "python",
   "name": "python3"
  },
  "language_info": {
   "codemirror_mode": {
    "name": "ipython",
    "version": 3
   },
   "file_extension": ".py",
   "mimetype": "text/x-python",
   "name": "python",
   "nbconvert_exporter": "python",
   "pygments_lexer": "ipython3",
   "version": "3.10.2"
  },
  "orig_nbformat": 4
 },
 "nbformat": 4,
 "nbformat_minor": 2
}
